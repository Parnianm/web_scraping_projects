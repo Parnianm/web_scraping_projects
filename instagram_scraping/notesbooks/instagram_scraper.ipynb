{
 "cells": [
  {
   "cell_type": "code",
   "execution_count": 25,
   "metadata": {},
   "outputs": [],
   "source": [
    "import random\n",
    "import asyncio\n",
    "import nest_asyncio\n",
    "import concurrent.futures\n",
    "import time\n",
    "import pandas as pd\n",
    "from selenium import webdriver\n",
    "from selenium.webdriver.common.by import By\n",
    "from selenium.webdriver.common.keys import Keys\n",
    "from selenium.webdriver.chrome.service import Service\n",
    "from selenium.webdriver.chrome.options import Options\n",
    "from selenium.webdriver.support.ui import WebDriverWait\n",
    "from selenium.webdriver.support import expected_conditions as EC"
   ]
  },
  {
   "cell_type": "code",
   "execution_count": null,
   "metadata": {},
   "outputs": [],
   "source": [
    "# ============================\n",
    "# 🟡 Helper Function: Setup WebDriver\n",
    "# ============================\n",
    "def setup_driver():\n",
    "    \"\"\"\n",
    "    This function initializes and configures the Selenium WebDriver with custom settings to enhance performance \n",
    "    and avoid bot detection mechanisms.\n",
    "    \"\"\"\n",
    "    user_agents = [\n",
    "        \"Mozilla/5.0 (Windows NT 10.0; Win64; x64)\",\n",
    "        \"Mozilla/5.0 (Macintosh; Intel Mac OS X 10_15_7)\",\n",
    "        \"Mozilla/5.0 (X11; Ubuntu; Linux x86_64; rv:94.0)\",\n",
    "    ]\n",
    "    chrome_options = Options()\n",
    "\n",
    "    # 🟢 Performance and Anti-bot settings\n",
    "    chrome_options.add_argument('--disable-blink-features=AutomationControlled')  # Hides Selenium automation flag\n",
    "    chrome_options.add_argument('--user-agent=Mozilla/5.0 (Windows NT 10.0; Win64; x64)')  # Sets a custom User-Agent\n",
    "    chrome_options.add_argument('--start-maximized')  # Maximizes browser window\n",
    "    chrome_options.add_argument('--disable-gpu')  # Disables GPU rendering for performance\n",
    "    chrome_options.add_argument('--log-level=3')  # Suppresses unnecessary logs\n",
    "    chrome_options.add_argument('--ignore-certificate-errors')  # Ignores SSL certificate errors\n",
    "    # chrome_options.add_argument('--proxy-auto-detect')  # Uses system proxy settings\n",
    "    chrome_options.add_argument(f'--user-agent={random.choice(user_agents)}')  # Randomizes user-agent to reduce detection\n",
    "    chrome_options.add_experimental_option(\"excludeSwitches\", [\"enable-automation\"])  # Further hides automation usage\n",
    "\n",
    "    # 🟡 Sets experimental capabilities to speed up page loading\n",
    "    caps = webdriver.DesiredCapabilities.CHROME.copy()\n",
    "    caps['pageLoadStrategy'] = 'eager'  # Loads pages faster by skipping unnecessary resources\n",
    "\n",
    "    # 🛠 Sets the ChromeDriver executable path\n",
    "    chrome_service = Service(executable_path=\"C:/Users/parni/OneDrive/Desktop/web_scraping_projects/instagram_scraping/drivers/chromedriver.exe\")\n",
    "\n",
    "    # 🏎️ Launches the WebDriver with defined options\n",
    "    driver = webdriver.Chrome(service=chrome_service, options=chrome_options)\n",
    "    return driver"
   ]
  },
  {
   "cell_type": "code",
   "execution_count": null,
   "metadata": {},
   "outputs": [],
   "source": [
    "# Function to manually log in to Instagram\n",
    "def login(driver):\n",
    "    # Navigate to Instagram login page\n",
    "    driver.get(\"https://www.instagram.com/accounts/login/\")\n",
    "    print(\"Please manually log in to your Instagram account and press Enter.\")\n",
    "    # Wait for the user to log in manually and press Enter to continue\n",
    "    input(\"Once you're logged in, press Enter...\")"
   ]
  },
  {
   "cell_type": "code",
   "execution_count": null,
   "metadata": {},
   "outputs": [],
   "source": [
    "# Function to extract profile information\n",
    "def extract_profile_info(driver, profile):\n",
    "    # Go to the target Instagram profile page\n",
    "    driver.get(f\"https://www.instagram.com/{profile}/\")\n",
    "    time.sleep(5)\n",
    "    input(\"This is for check xpath....\")\n",
    "    # Extract name, bio, and number of posts\n",
    "    try:\n",
    "        name = driver.find_element(By.XPATH, \"//h2\").text\n",
    "        bio = driver.find_element(By.XPATH, \"//div[@class='x7a106z x972fbf xcfux6l x1qhh985 xm0m39n x9f619 x78zum5 xdt5ytf x2lah0s xdj266r x11i5rnm xat24cr x1mh8g0r xexx8yu x4uap5 x18d9i69 xkhd6sd x1n2onr6 x11njtxf xskmkbu x1pjya6o x14cbv0q x7wvtww x9v3v6d x17eookw x1q548z6']\").text\n",
    "        posts = driver.find_element(By.XPATH, \"//span[@class='html-span xdj266r x11i5rnm xat24cr x1mh8g0r xexx8yu x4uap5 x18d9i69 xkhd6sd x1hl2dhg x16tdsg8 x1vvkbs'][1]\").text\n",
    "        # Print the extracted information\n",
    "        print(f\"Name: {name}\")\n",
    "        print(f\"Bio: {bio}\")\n",
    "        print(f\"Posts: {posts}\")\n",
    "    except Exception as e:\n",
    "        # Handle exceptions if any element is not found\n",
    "        print(\"Error:\", e)"
   ]
  },
  {
   "cell_type": "code",
   "execution_count": null,
   "metadata": {},
   "outputs": [],
   "source": [
    "# Function to close the driver\n",
    "def close_driver(driver):\n",
    "    # Quit the driver and close the browser window\n",
    "    driver.quit()"
   ]
  },
  {
   "cell_type": "code",
   "execution_count": 30,
   "metadata": {},
   "outputs": [
    {
     "name": "stdout",
     "output_type": "stream",
     "text": [
      "Please manually log in to your Instagram account and press Enter.\n",
      "Name: galaxies\n",
      "Bio: Galaxies\n",
      "🔭Follow for Space & Science Videos\n",
      "🛸 @observatory\n",
      "Posts: 2,238\n"
     ]
    }
   ],
   "source": [
    "# Main function to control the flow of the program\n",
    "def main():\n",
    "    # Set up the WebDriver\n",
    "    driver = setup_driver()\n",
    "    \n",
    "    # Log in manually\n",
    "    login(driver)\n",
    "    \n",
    "    # Target Instagram profile (replace with the desired profile)\n",
    "    profile = \"galaxies\"  # Replace with the target profile username\n",
    "    \n",
    "    # Extract profile information\n",
    "    extract_profile_info(driver, profile)\n",
    "    \n",
    "    # Close the WebDriver\n",
    "    close_driver(driver)\n",
    "\n",
    "# Entry point of the script\n",
    "if __name__ == \"__main__\":\n",
    "    main()"
   ]
  }
 ],
 "metadata": {
  "kernelspec": {
   "display_name": "Python 3",
   "language": "python",
   "name": "python3"
  },
  "language_info": {
   "codemirror_mode": {
    "name": "ipython",
    "version": 3
   },
   "file_extension": ".py",
   "mimetype": "text/x-python",
   "name": "python",
   "nbconvert_exporter": "python",
   "pygments_lexer": "ipython3",
   "version": "3.13.1"
  }
 },
 "nbformat": 4,
 "nbformat_minor": 2
}
